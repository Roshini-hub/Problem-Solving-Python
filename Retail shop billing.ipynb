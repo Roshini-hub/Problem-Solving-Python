{
 "cells": [
  {
   "cell_type": "code",
   "execution_count": 61,
   "id": "03b719af",
   "metadata": {},
   "outputs": [
    {
     "name": "stdout",
     "output_type": "stream",
     "text": [
      "ABC RETAIL SHOP   Bill no:1234\n",
      "Enter the quantity of the products: 1\n",
      "Bread 40\n",
      "Soap 40\n",
      "Rice 40\n",
      "Onion 40\n",
      "Beans 40\n",
      "Carrot 40\n",
      "Bread 30\n",
      "Soap 30\n",
      "Rice 30\n",
      "Onion 30\n",
      "Beans 30\n",
      "Carrot 30\n",
      "Bread 80\n",
      "Soap 80\n",
      "Rice 80\n",
      "Onion 80\n",
      "Beans 80\n",
      "Carrot 80\n",
      "Bread 20\n",
      "Soap 20\n",
      "Rice 20\n",
      "Onion 20\n",
      "Beans 20\n",
      "Carrot 20\n",
      "Bread 10\n",
      "Soap 10\n",
      "Rice 10\n",
      "Onion 10\n",
      "Beans 10\n",
      "Carrot 10\n",
      "Bread 10\n",
      "Soap 10\n",
      "Rice 10\n",
      "Onion 10\n",
      "Beans 10\n",
      "Carrot 10\n"
     ]
    }
   ],
   "source": [
    "###RETAIL SHOP BILLING\n",
    "print('ABC RETAIL SHOP   Bill no:1234')\n",
    "product = ['Bread', 'Soap', 'Rice', 'Onion', 'Beans', 'Carrot']\n",
    "price = [40, 30, 80, 20, 10, 10]\n",
    "quantity = int(input('Enter the quantity of the products: '))\n",
    "\n",
    "def bill(product,amount):\n",
    "    for i in price:\n",
    "        amount=i*quantity\n",
    "        for j in product:\n",
    "            print(j, amount)\n",
    "    \n",
    "bill(product, amount)\n",
    "\n",
    "\n"
   ]
  },
  {
   "cell_type": "code",
   "execution_count": 63,
   "id": "04b03410",
   "metadata": {},
   "outputs": [
    {
     "name": "stdout",
     "output_type": "stream",
     "text": [
      "ABC RETAIL SHOP   Bill no:1234\n",
      "Enter the quantity of the products: 1\n"
     ]
    }
   ],
   "source": [
    "###RETAIL SHOP BILLING\n",
    "print('ABC RETAIL SHOP   Bill no:1234')\n",
    "product = ['Bread', 'Soap', 'Rice', 'Onion', 'Beans', 'Carrot']\n",
    "price = [40, 30, 80, 20, 10, 10]\n",
    "quantity = int(input('Enter the quantity of the products: '))\n",
    "\n",
    "def bill(product,price):\n",
    "    for j in product:\n",
    "        for i in price:\n",
    "            for i,j in zip(product,price):\n",
    "                print(i,j)\n",
    "        \n"
   ]
  },
  {
   "cell_type": "code",
   "execution_count": null,
   "id": "843d8e17",
   "metadata": {},
   "outputs": [],
   "source": [
    "###RETAIL SHOP BILLING\n",
    "print('ABC RETAIL SHOP   Bill no:1234')\n",
    "product = ['Bread', 'Soap', 'Rice', 'Onion', 'Beans', 'Carrot']\n",
    "price = [40, 30, 80, 20, 10, 10]\n",
    "quantity = int(input('Enter the quantity of the products: '))\n",
    "for j in product:\n",
    "    for i in price:\n",
    "        amount=i*quantity\n",
    "        print(j , '=' , amount)"
   ]
  },
  {
   "cell_type": "code",
   "execution_count": 73,
   "id": "b4c1dfec",
   "metadata": {},
   "outputs": [
    {
     "name": "stdout",
     "output_type": "stream",
     "text": [
      "Enter the quantity of the products: 4\n",
      "Bread 160\n",
      "Soap 120\n",
      "Rice 320\n",
      "Onion 80\n",
      "Beans 40\n",
      "Carrot 40\n"
     ]
    }
   ],
   "source": [
    "product = ['Bread', 'Soap', 'Rice', 'Onion', 'Beans', 'Carrot']\n",
    "price = [40, 30, 80, 20, 10, 10]\n",
    "quantity = int(input('Enter the quantity of the products: '))\n",
    "def assignment(product, price):        \n",
    "    for i, j in zip(product, price):\n",
    "        amount=quantity*j\n",
    "        print (i,amount)\n",
    "assignment(product,price)"
   ]
  },
  {
   "cell_type": "code",
   "execution_count": null,
   "id": "1f9b8b87",
   "metadata": {},
   "outputs": [],
   "source": []
  },
  {
   "cell_type": "code",
   "execution_count": null,
   "id": "a4033ca1",
   "metadata": {},
   "outputs": [],
   "source": []
  }
 ],
 "metadata": {
  "kernelspec": {
   "display_name": "Python 3 (ipykernel)",
   "language": "python",
   "name": "python3"
  },
  "language_info": {
   "codemirror_mode": {
    "name": "ipython",
    "version": 3
   },
   "file_extension": ".py",
   "mimetype": "text/x-python",
   "name": "python",
   "nbconvert_exporter": "python",
   "pygments_lexer": "ipython3",
   "version": "3.9.13"
  }
 },
 "nbformat": 4,
 "nbformat_minor": 5
}
