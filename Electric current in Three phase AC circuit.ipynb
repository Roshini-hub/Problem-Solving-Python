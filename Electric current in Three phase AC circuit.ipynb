{
 "cells": [
  {
   "cell_type": "code",
   "execution_count": 2,
   "id": "4dfdbda2",
   "metadata": {},
   "outputs": [
    {
     "name": "stdout",
     "output_type": "stream",
     "text": [
      "Enter the voltage value : 150\n",
      "Enter the current value : 250\n",
      "The electic current in the Three phase AC circuit is  51.96\n"
     ]
    }
   ],
   "source": [
    "#Electric current in Three phase AC circuit\n",
    "v = int(input(\"Enter the voltage value : \"))\n",
    "i = int(input(\"Enter the current value : \"))\n",
    "kW = (v*i*0.8*1.732)/1000\n",
    "print(\"The electic current in the Three phase AC circuit is \",kW)"
   ]
  },
  {
   "cell_type": "code",
   "execution_count": null,
   "id": "5f0c0339",
   "metadata": {},
   "outputs": [],
   "source": []
  }
 ],
 "metadata": {
  "kernelspec": {
   "display_name": "Python 3 (ipykernel)",
   "language": "python",
   "name": "python3"
  },
  "language_info": {
   "codemirror_mode": {
    "name": "ipython",
    "version": 3
   },
   "file_extension": ".py",
   "mimetype": "text/x-python",
   "name": "python",
   "nbconvert_exporter": "python",
   "pygments_lexer": "ipython3",
   "version": "3.9.13"
  }
 },
 "nbformat": 4,
 "nbformat_minor": 5
}
