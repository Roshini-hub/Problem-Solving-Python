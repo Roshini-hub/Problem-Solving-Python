{
 "cells": [
  {
   "cell_type": "code",
   "execution_count": 1,
   "id": "7c15e91e",
   "metadata": {},
   "outputs": [
    {
     "name": "stdout",
     "output_type": "stream",
     "text": [
      "ABC RETAIL SHOP   Bill no:1234\n",
      "Enter the quantity of the products: 1\n",
      "Bread = Rs. 40\n",
      "Soap = Rs. 30\n",
      "Rice = Rs. 80\n",
      "Onion = Rs. 20\n",
      "Beans = Rs. 10\n",
      "Carrot = Rs. 10\n",
      "The Total amount is  190\n"
     ]
    }
   ],
   "source": [
    "print('ABC RETAIL SHOP   Bill no:1234')\n",
    "product = ['Bread', 'Soap', 'Rice', 'Onion', 'Beans', 'Carrot']\n",
    "price = [40, 30, 80, 20, 10, 10]\n",
    "quantity = int(input('Enter the quantity of the products: '))\n",
    "def assignment(product, price): \n",
    "    total = 0\n",
    "    for i, j in zip(product, price):\n",
    "        amount=quantity*j\n",
    "        total += amount\n",
    "        print (i, '=' , 'Rs.',amount)\n",
    "    print(\"The Total amount is \",total)\n",
    "assignment(product, price)\n"
   ]
  },
  {
   "cell_type": "code",
   "execution_count": null,
   "id": "a9de5fc7",
   "metadata": {},
   "outputs": [],
   "source": []
  }
 ],
 "metadata": {
  "kernelspec": {
   "display_name": "Python 3 (ipykernel)",
   "language": "python",
   "name": "python3"
  },
  "language_info": {
   "codemirror_mode": {
    "name": "ipython",
    "version": 3
   },
   "file_extension": ".py",
   "mimetype": "text/x-python",
   "name": "python",
   "nbconvert_exporter": "python",
   "pygments_lexer": "ipython3",
   "version": "3.9.13"
  }
 },
 "nbformat": 4,
 "nbformat_minor": 5
}
