{
 "cells": [
  {
   "cell_type": "code",
   "execution_count": 8,
   "id": "1be1e7cf",
   "metadata": {},
   "outputs": [
    {
     "name": "stdout",
     "output_type": "stream",
     "text": [
      "Enter no of parts :5\n",
      "Enter the name of the part : wheel\n",
      "Enter the weight :10\n",
      "Enter the name of the part : engine\n",
      "Enter the weight :50\n",
      "Enter the name of the part : speed o meter\n",
      "Enter the weight :5\n",
      "Enter the name of the part : mirror\n",
      "Enter the weight :2\n",
      "Enter the name of the part : seat\n",
      "Enter the weight :8\n",
      "Total weight of the bike is  75\n"
     ]
    }
   ],
   "source": [
    "l = []\n",
    "n = int(input(\"Enter no of parts :\"))\n",
    "for i in range(0,n,1):\n",
    "    part = input(\"Enter the name of the part : \")\n",
    "    w = int(input(\"Enter the weight :\"))\n",
    "    l.append(w)\n",
    "    weight = sum(l)\n",
    "print(\"Total weight of the bike is \", weight)"
   ]
  },
  {
   "cell_type": "code",
   "execution_count": null,
   "id": "af7f2057",
   "metadata": {},
   "outputs": [],
   "source": []
  },
  {
   "cell_type": "code",
   "execution_count": null,
   "id": "9166c71a",
   "metadata": {},
   "outputs": [],
   "source": []
  }
 ],
 "metadata": {
  "kernelspec": {
   "display_name": "Python 3 (ipykernel)",
   "language": "python",
   "name": "python3"
  },
  "language_info": {
   "codemirror_mode": {
    "name": "ipython",
    "version": 3
   },
   "file_extension": ".py",
   "mimetype": "text/x-python",
   "name": "python",
   "nbconvert_exporter": "python",
   "pygments_lexer": "ipython3",
   "version": "3.9.13"
  }
 },
 "nbformat": 4,
 "nbformat_minor": 5
}
